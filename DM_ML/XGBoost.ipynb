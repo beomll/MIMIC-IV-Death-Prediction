{
 "cells": [
  {
   "cell_type": "code",
   "id": "initial_id",
   "metadata": {
    "collapsed": true,
    "ExecuteTime": {
     "end_time": "2024-11-30T02:20:52.589134Z",
     "start_time": "2024-11-30T02:20:52.305475Z"
    }
   },
   "source": [
    "import pandas as pd\n",
    "from sklearn.metrics import accuracy_score, classification_report\n",
    "import xgboost as xgb\n",
    "from hyperopt import hp, fmin, tpe, Trials\n",
    "from sklearn.model_selection import train_test_split\n",
    "from imblearn.over_sampling import SMOTE\n",
    "\n",
    "# 데이터 로드 (학습 데이터와 테스트 데이터 파일 경로)\n",
    "train_file_path = \"data/merged_data_2378.csv\"\n",
    "test_file_path = \"data/merged_data_520_test.csv\"\n",
    "\n",
    "# 학습 데이터 로드\n",
    "train_data = pd.read_csv(train_file_path)\n",
    "X_train = train_data.drop(columns=[\"within_120hr_death\"])  # 'within_120hr_death' 열을 제외한 특성\n",
    "y_train = train_data[\"within_120hr_death\"]  # 타겟 변수\n",
    "\n",
    "# 테스트 데이터 로드\n",
    "test_data = pd.read_csv(test_file_path)\n",
    "X_test = test_data.drop(columns=[\"within_120hr_death\"])  # 'within_120hr_death' 열을 제외한 특성\n",
    "y_test = test_data[\"within_120hr_death\"]  # 타겟 변수\n",
    "\n",
    "# 공통된 열 선택\n",
    "common_columns = X_train.columns.intersection(X_test.columns)\n",
    "X_train = X_train[common_columns]\n",
    "X_test = X_test[common_columns]\n",
    "print(f\"Number of features: {len(common_columns)}\")"
   ],
   "outputs": [
    {
     "name": "stdout",
     "output_type": "stream",
     "text": [
      "Number of features: 1015\n"
     ]
    }
   ],
   "execution_count": 5
  },
  {
   "metadata": {
    "ExecuteTime": {
     "end_time": "2024-11-30T02:29:22.089947Z",
     "start_time": "2024-11-30T02:24:27.983Z"
    }
   },
   "cell_type": "code",
   "source": [
    "# 클래스 불균형에 따른 가중치 조정\n",
    "scale_pos_weight = len(y_train) / (2 * sum(y_train))\n",
    "\n",
    "# 학습 데이터와 검증 데이터 나누기\n",
    "X_train_split, X_val_split, y_train_split, y_val_split = train_test_split(X_train, y_train, test_size=0.2, random_state=42)\n",
    "\n",
    "# SMOTE 적용: 훈련 데이터에만\n",
    "smote = SMOTE(random_state=42)\n",
    "X_train_resampled, y_train_resampled = smote.fit_resample(X_train_split, y_train_split)\n",
    "\n",
    "# 하이퍼파라미터 검색 공간 정의\n",
    "xgb_search_space = {\n",
    "    'max_depth': hp.quniform('max_depth', 5, 20, 1),\n",
    "    'min_child_weight': hp.quniform('min_child_weight', 1, 10, 1),\n",
    "    'learning_rate': hp.uniform('learning_rate', 0.01, 0.2),\n",
    "    'colsample_bytree': hp.uniform('colsample_bytree', 0.5, 1),\n",
    "    'subsample': hp.uniform('subsample', 0.5, 1),\n",
    "    'gamma': hp.uniform('gamma', 0, 1),\n",
    "    'reg_lambda': hp.uniform('reg_lambda', 0, 2),\n",
    "    'reg_alpha': hp.uniform('reg_alpha', 0, 2),\n",
    "}\n",
    "\n",
    "# 하이퍼파라미터 튜닝을 위한 목적 함수 정의\n",
    "def objective_func(search_space):\n",
    "    # XGBClassifier 모델 설정\n",
    "    model = xgb.XGBClassifier(\n",
    "        n_estimators=350,\n",
    "        learning_rate=search_space['learning_rate'],\n",
    "        max_depth=int(search_space['max_depth']),\n",
    "        min_child_weight=int(search_space['min_child_weight']),\n",
    "        colsample_bytree=search_space['colsample_bytree'],\n",
    "        subsample=search_space['subsample'],\n",
    "        gamma=search_space['gamma'],\n",
    "        reg_lambda=search_space['reg_lambda'],\n",
    "        reg_alpha=search_space['reg_alpha'],\n",
    "        scale_pos_weight=scale_pos_weight,\n",
    "        eval_metric=\"logloss\",\n",
    "        early_stopping_rounds=10\n",
    "    )\n",
    "\n",
    "    # 모델 학습 (early_stopping_rounds를 사용하기 위해 검증 데이터 제공)\n",
    "    model.fit(\n",
    "        X_train_resampled, y_train_resampled,\n",
    "        eval_set=[(X_val_split, y_val_split)],\n",
    "        verbose=False\n",
    "    )\n",
    "\n",
    "    # 검증 데이터에 대한 정확도 계산\n",
    "    val_accuracy = accuracy_score(y_val_split, model.predict(X_val_split))\n",
    "    return -val_accuracy  # 최적화는 loss를 최소화해야 하므로 부호 반전\n",
    "\n",
    "# 하이퍼파라미터 튜닝을 위한 `Trials` 객체 생성\n",
    "trial_val = Trials()\n",
    "\n",
    "# fmin을 사용하여 하이퍼파라미터 최적화 수행\n",
    "best = fmin(\n",
    "    fn=objective_func,           # 목적 함수\n",
    "    space=xgb_search_space,      # 하이퍼파라미터 검색 공간\n",
    "    algo=tpe.suggest,            # 최적화 알고리즘\n",
    "    max_evals=100,               # 최대 반복 횟수\n",
    "    trials=trial_val             # 하이퍼파라미터 튜닝의 트레이스 기록\n",
    ")\n",
    "\n",
    "# 최적의 하이퍼파라미터 출력\n",
    "print(\"Best hyperparameters:\", best)"
   ],
   "id": "ecbe92d302a0836",
   "outputs": [
    {
     "name": "stdout",
     "output_type": "stream",
     "text": [
      "100%|██████████| 100/100 [04:53<00:00,  2.94s/trial, best loss: -0.9663865546218487]\n",
      "Best hyperparameters: {'colsample_bytree': np.float64(0.8162513583700682), 'gamma': np.float64(0.2879313517776968), 'learning_rate': np.float64(0.18495429520648238), 'max_depth': np.float64(15.0), 'min_child_weight': np.float64(5.0), 'reg_alpha': np.float64(0.8973476213897356), 'reg_lambda': np.float64(1.843172387522842), 'subsample': np.float64(0.6088351472923701)}\n"
     ]
    }
   ],
   "execution_count": 6
  },
  {
   "metadata": {
    "ExecuteTime": {
     "end_time": "2024-11-30T02:29:43.084518Z",
     "start_time": "2024-11-30T02:29:40.991497Z"
    }
   },
   "cell_type": "code",
   "source": [
    "# 최적화된 하이퍼파라미터로 XGBoost 모델 학습\n",
    "best_model = xgb.XGBClassifier(\n",
    "    n_estimators=350,\n",
    "    learning_rate=best['learning_rate'],\n",
    "    max_depth=int(best['max_depth']),\n",
    "    min_child_weight=int(best['min_child_weight']),\n",
    "    colsample_bytree=best['colsample_bytree'],\n",
    "    subsample=best['subsample'],\n",
    "    gamma=best['gamma'],\n",
    "    reg_lambda=best['reg_lambda'],\n",
    "    reg_alpha=best['reg_alpha'],\n",
    "    scale_pos_weight=scale_pos_weight,\n",
    "    eval_metric=\"logloss\",\n",
    "    early_stopping_rounds=10\n",
    ")\n",
    "\n",
    "# 모델 학습\n",
    "best_model.fit(X_train_resampled, y_train_resampled, eval_set=[(X_val_split, y_val_split)], verbose=True)\n",
    "\n",
    "# Train 데이터 평가\n",
    "y_train_pred = best_model.predict(X_train_resampled)\n",
    "train_accuracy = accuracy_score(y_train_resampled, y_train_pred)\n",
    "print(f\"Train Accuracy: {train_accuracy:.4f}\")\n",
    "\n",
    "# Test 데이터 평가\n",
    "y_pred = best_model.predict(X_test)\n",
    "test_accuracy = accuracy_score(y_test, y_pred)\n",
    "report = classification_report(y_test, y_pred)\n",
    "\n",
    "print(f\"Test Accuracy: {test_accuracy:.4f}\")\n",
    "print(\"Classification Report:\")\n",
    "print(report)\n"
   ],
   "id": "21ecf794f26b21c5",
   "outputs": [
    {
     "name": "stdout",
     "output_type": "stream",
     "text": [
      "[0]\tvalidation_0-logloss:0.83296\n",
      "[1]\tvalidation_0-logloss:0.68252\n",
      "[2]\tvalidation_0-logloss:0.58395\n",
      "[3]\tvalidation_0-logloss:0.51162\n",
      "[4]\tvalidation_0-logloss:0.44401\n",
      "[5]\tvalidation_0-logloss:0.39700\n",
      "[6]\tvalidation_0-logloss:0.35939\n",
      "[7]\tvalidation_0-logloss:0.32832\n",
      "[8]\tvalidation_0-logloss:0.30204\n",
      "[9]\tvalidation_0-logloss:0.28168\n",
      "[10]\tvalidation_0-logloss:0.25967\n",
      "[11]\tvalidation_0-logloss:0.24247\n",
      "[12]\tvalidation_0-logloss:0.23051\n",
      "[13]\tvalidation_0-logloss:0.21793\n",
      "[14]\tvalidation_0-logloss:0.20592\n",
      "[15]\tvalidation_0-logloss:0.19737\n",
      "[16]\tvalidation_0-logloss:0.19068\n",
      "[17]\tvalidation_0-logloss:0.18494\n",
      "[18]\tvalidation_0-logloss:0.18259\n",
      "[19]\tvalidation_0-logloss:0.17575\n",
      "[20]\tvalidation_0-logloss:0.17279\n",
      "[21]\tvalidation_0-logloss:0.17105\n",
      "[22]\tvalidation_0-logloss:0.16615\n",
      "[23]\tvalidation_0-logloss:0.16247\n",
      "[24]\tvalidation_0-logloss:0.16073\n",
      "[25]\tvalidation_0-logloss:0.15822\n",
      "[26]\tvalidation_0-logloss:0.15718\n",
      "[27]\tvalidation_0-logloss:0.15571\n",
      "[28]\tvalidation_0-logloss:0.15407\n",
      "[29]\tvalidation_0-logloss:0.15250\n",
      "[30]\tvalidation_0-logloss:0.15140\n",
      "[31]\tvalidation_0-logloss:0.14807\n",
      "[32]\tvalidation_0-logloss:0.14821\n",
      "[33]\tvalidation_0-logloss:0.14608\n",
      "[34]\tvalidation_0-logloss:0.14508\n",
      "[35]\tvalidation_0-logloss:0.14457\n",
      "[36]\tvalidation_0-logloss:0.14280\n",
      "[37]\tvalidation_0-logloss:0.14282\n",
      "[38]\tvalidation_0-logloss:0.14187\n",
      "[39]\tvalidation_0-logloss:0.14187\n",
      "[40]\tvalidation_0-logloss:0.14166\n",
      "[41]\tvalidation_0-logloss:0.14249\n",
      "[42]\tvalidation_0-logloss:0.14205\n",
      "[43]\tvalidation_0-logloss:0.14238\n",
      "[44]\tvalidation_0-logloss:0.14092\n",
      "[45]\tvalidation_0-logloss:0.14023\n",
      "[46]\tvalidation_0-logloss:0.14078\n",
      "[47]\tvalidation_0-logloss:0.13961\n",
      "[48]\tvalidation_0-logloss:0.13783\n",
      "[49]\tvalidation_0-logloss:0.13652\n",
      "[50]\tvalidation_0-logloss:0.13507\n",
      "[51]\tvalidation_0-logloss:0.13423\n",
      "[52]\tvalidation_0-logloss:0.13466\n",
      "[53]\tvalidation_0-logloss:0.13473\n",
      "[54]\tvalidation_0-logloss:0.13458\n",
      "[55]\tvalidation_0-logloss:0.13618\n",
      "[56]\tvalidation_0-logloss:0.13621\n",
      "[57]\tvalidation_0-logloss:0.13557\n",
      "[58]\tvalidation_0-logloss:0.13621\n",
      "[59]\tvalidation_0-logloss:0.13626\n",
      "[60]\tvalidation_0-logloss:0.13603\n",
      "Train Accuracy: 0.9928\n",
      "Test Accuracy: 0.9481\n",
      "Classification Report:\n",
      "              precision    recall  f1-score   support\n",
      "\n",
      "           0       0.97      0.96      0.97       415\n",
      "           1       0.86      0.89      0.87       105\n",
      "\n",
      "    accuracy                           0.95       520\n",
      "   macro avg       0.92      0.92      0.92       520\n",
      "weighted avg       0.95      0.95      0.95       520\n",
      "\n"
     ]
    }
   ],
   "execution_count": 7
  },
  {
   "metadata": {
    "ExecuteTime": {
     "end_time": "2024-11-30T02:30:18.895635Z",
     "start_time": "2024-11-30T02:30:18.809001Z"
    }
   },
   "cell_type": "code",
   "source": [
    "from sklearn.metrics import confusion_matrix\n",
    "import seaborn as sns\n",
    "import matplotlib.pyplot as plt\n",
    "\n",
    "# 정규화된 혼동 행렬\n",
    "cm = confusion_matrix(y_test, y_pred, normalize='true')  # 각 클래스 비율로 정규화\n",
    "\n",
    "# 시각화\n",
    "plt.figure(figsize=(10, 8))\n",
    "sns.heatmap(cm, annot=True, fmt='.2f', cmap='Blues')  # '.2f'는 소수점 둘째 자리까지 표시\n",
    "plt.xlabel('Predicted label')\n",
    "plt.ylabel('True label')\n",
    "plt.title('Normalized Confusion Matrix')\n",
    "plt.show()\n"
   ],
   "id": "6726381c5b8ca785",
   "outputs": [
    {
     "data": {
      "text/plain": [
       "<Figure size 1000x800 with 2 Axes>"
      ],
      "image/png": "[encoded data removed]"
     },
     "metadata": {},
     "output_type": "display_data"
    }
   ],
   "execution_count": 8
  },
  {
   "metadata": {},
   "cell_type": "code",
   "outputs": [],
   "execution_count": null,
   "source": "",
   "id": "5aaf4318cc0e2186"
  }
 ],
 "metadata": {
  "kernelspec": {
   "display_name": "Python 3",
   "language": "python",
   "name": "python3"
  },
  "language_info": {
   "codemirror_mode": {
    "name": "ipython",
    "version": 2
   },
   "file_extension": ".py",
   "mimetype": "text/x-python",
   "name": "python",
   "nbconvert_exporter": "python",
   "pygments_lexer": "ipython2",
   "version": "2.7.6"
  }
 },
 "nbformat": 4,
 "nbformat_minor": 5
}
